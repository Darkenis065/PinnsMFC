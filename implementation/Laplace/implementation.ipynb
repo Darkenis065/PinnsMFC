{
 "cells": [
  {
   "cell_type": "code",
   "execution_count": null,
   "id": "a5abb494-d1eb-4c05-b38f-3b908e7b3768",
   "metadata": {},
   "outputs": [],
   "source": []
  },
  {
   "cell_type": "markdown",
   "id": "cb2452d3-e1b8-4f36-9d61-48a3130e1b30",
   "metadata": {},
   "source": [
    "# Implementation"
   ]
  },
  {
   "cell_type": "markdown",
   "id": "bfccc6a0-d158-4399-85db-2bc4555b80c5",
   "metadata": {},
   "source": [
    "## DeepXDE"
   ]
  },
  {
   "cell_type": "code",
   "execution_count": null,
   "id": "d1350670-b730-4791-af24-2e6d8c59e3ba",
   "metadata": {},
   "outputs": [],
   "source": [
    "'''\n",
    "First of all we are going to install all the depedencies.\n",
    "(Matplotlib, Numpy, Scikit Learn, Scikit Optimize and SciPy)\n",
    "'''\n",
    "!pip install matplotlib\n",
    "!pip install numpy\n",
    "!pip install scikit-learn\n",
    "!pip install scikit-optimize\n",
    "!pip install scipy"
   ]
  },
  {
   "cell_type": "markdown",
   "id": "c496cd84-a2eb-41bc-9074-e24a89e5da26",
   "metadata": {},
   "source": [
    "### TensorFlow"
   ]
  },
  {
   "cell_type": "code",
   "execution_count": null,
   "id": "11f14ace-9cd8-482d-a532-a23d8c949883",
   "metadata": {},
   "outputs": [],
   "source": [
    "'''\n",
    "Now we need to install from pip the backend library and the backend in this case we will\n",
    "use Tensorflow2.x and then we will install DeepXDE also from pip.\n",
    "'''\n",
    "!pip install upgrade pip\n",
    "!pip install tensorflow"
   ]
  },
  {
   "cell_type": "code",
   "execution_count": null,
   "id": "b63c51c4-78b4-493e-903e-48282c244990",
   "metadata": {},
   "outputs": [],
   "source": [
    "'''\n",
    "Now we will install DeepXDE library\n",
    "'''\n",
    "!pip install deepxde"
   ]
  },
  {
   "cell_type": "markdown",
   "id": "25387c30-728c-42fd-894d-774d7e0119d0",
   "metadata": {},
   "source": [
    "## Ejemplo"
   ]
  },
  {
   "cell_type": "code",
   "execution_count": None,
   "id": "4779a3f4-9054-4cfe-b531-f6aea8d1322e",
   "metadata": {},
   "outputs": [],
   "source": [
    "import deepxde as dde\n",
    "from deepxde.backend import tf\n",
    "import numpy as np\n",
    "import matplotlib.pyplot as plt\n",
    "from deepxde import backend as bkd\n",
    "\n",
    "# Definir el dominio rectangular\n",
    "geom = dde.geometry.Rectangle([0, 0], [2, 2])  # x ∈ [0, 2], y ∈ [0, 2]\n",
    "\n",
    "# Definir la ecuación de Poisson: ∇²V = 4\n",
    "def pde(x, y):\n",
    "    dy_xx = dde.grad.hessian(y, x, i=0, j=0)\n",
    "    dy_yy = dde.grad.hessian(y, x, i=1, j=1)\n",
    "    return dy_xx + dy_yy - 4\n",
    "\n",
    "# Condiciones de frontera\n",
    "def boundary_left(x, on_boundary): # Frontera izquierda: x = 0\n",
    "    return on_boundary and np.isclose(x[0], 0)\n",
    "\n",
    "def boundary_right(x, on_boundary): # Frontera derecha: x = 2\n",
    "    return on_boundary and np.isclose(x[0], 2)\n",
    "\n",
    "def boundary_bottom(x, on_boundary): # Frontera inferior: y = 0\n",
    "    return on_boundary and np.isclose(x[1], 0)\n",
    "\n",
    "def boundary_top(x, on_boundary): # Frontera superior: y = 2\n",
    "    return on_boundary and np.isclose(x[1], 2)\n",
    "\n",
    "\n",
    "# Definir condiciones de frontera (Dirichlet)\n",
    "# En x = 0: V(0,y) = y^2\n",
    "bc_left = dde.DirichletBC(geom, lambda x: x[:, 1]**2, boundary_left)\n",
    "\n",
    "# En x = 2: V(2,y) = (y-1)^2\n",
    "bc_right = dde.DirichletBC(geom, lambda x: (x[:, 1] - 1)**2, boundary_right)\n",
    "\n",
    "# En y = 0: V(x,0) = x^2\n",
    "bc_bottom = dde.DirichletBC(geom, lambda x: x[:, 0]**2, boundary_bottom)\n",
    "\n",
    "# En y = 2: V(x,2) = (x-2)^2\n",
    "bc_top = dde.DirichletBC(geom, lambda x: (x[:, 0] - 2)**2, boundary_top)\n",
    "\n",
    "# Solución exacta para evaluar el error (COMENTADA PORQUE NO CORRESPONDE A LAS BCs DEL PROBLEMA)\n",
    "# def exact_solution(x):\n",
    "#     return ((x[:, 0] - x[:, 1])**2).reshape(-1, 1)\n",
    "\n",
    "# Preparar el problema\n",
    "data = dde.data.PDE(\n",
    "    geom,\n",
    "    pde,\n",
    "    [bc_left, bc_right, bc_bottom, bc_top], # Usar las BCs corregidas\n",
    "    num_domain=256,\n",
    "    num_boundary=64,\n",
    "    # solution=exact_solution, # Removido\n",
    "    num_test=10000,\n",
    ")\n",
    "\n",
    "# Red neuronal\n",
    "net = dde.maps.FNN([2] + [64] + [64] + [64] + [1], activation=bkd.tanh, kernel_initializer=tf.keras.initializers.he_normal())\n",
    "\n",
    "# Modelo\n",
    "model = dde.Model(data, net)\n",
    "\n",
    "# --- CONFIGURACIÓN DEL CALLBACK ModelCheckpoint ---\n",
    "model_save_path = \"best_model.ckpt\"\n",
    "callbacks = [\n",
    "    dde.callbacks.ModelCheckpoint(\n",
    "        model_save_path,\n",
    "        monitor=\"test loss\",\n",
    "        verbose=1,\n",
    "        save_better_only=True,\n",
    "        period=100 \n",
    "    )\n",
    "]\n",
    "\n",
    "model.compile(\"adam\", lr=1e-4) # Removido metrics=[\"MSE\"]\n",
    "losshistory, train_state = model.train(epochs=10000, callbacks=callbacks) # Usando 10000 épocas como en el original\n",
    "\n",
    "model.save(\"final_model.ckpt\")\n",
    "\n",
    "# Graficar el historial de pérdida\n",
    "dde.utils.plot_loss_history(losshistory)\n",
    "plt.savefig(\"loss_history.png\") # Guardar el gráfico de pérdida\n",
    "\n",
    "# (Opcional) Graficar la solución en una cuadrícula\n",
    "X, Y = np.meshgrid(np.linspace(0, 2, 100), np.linspace(0, 2, 100))\n",
    "XY = np.hstack((X.flatten()[:, None], Y.flatten()[:, None]))\n",
    "V_pred = model.predict(XY).reshape(100, 100)\n",
    "\n",
    "plt.figure(figsize=(6, 5))\n",
    "plt.contourf(X, Y, V_pred, levels=100, cmap=\"viridis\")\n",
    "plt.colorbar(label=\"V(x, y)\")\n",
    "plt.xlabel(\"x\")\n",
    "plt.ylabel(\"y\")\n",
    "plt.title(\"Solución aproximada de V(x, y)\")\n",
    "plt.tight_layout()\n",
    "plt.savefig(\"solution_contour.png\") # Guardar el gráfico de contorno\n",
    "\n",
    "# dde.saveplot(losshistory, train_state, issave=True, isplot=True) # Esta línea puede causar problemas en entornos no interactivos o si X11 no está configurado.\n",
    "print(\"Script execution finished. Check for loss_history.png and solution_contour.png\")"
   ]
  },
  {
   "cell_type": "markdown",
   "id": "7692acf5-8a6d-41d2-9a73-70114d7be35e",
   "metadata": {},
   "source": [
    "### Pytorch"
   ]
  },
  {
   "cell_type": "code",
   "execution_count": null,
   "id": "40909b1d-8e86-4066-8dbb-fb2fda6d6eb2",
   "metadata": {},
   "outputs": [],
   "source": [
    "\"\"\"\n",
    "Now we want to use the pytorch backend, for that propousal we are going to install the library using pip as follow: \n",
    "\"\"\"\n",
    "!pip install torch torchvision torchaudio --index-url https://download.pytorch.org/whl/cu118"
   ]
  },
  {
   "cell_type": "code",
   "execution_count": null,
   "id": "f6f81a8c-c41b-4e3e-8f75-37687aa60947",
   "metadata": {},
   "outputs": [],
   "source": [
    "\"\"\"\n",
    "we can implement the lbrary with another PDE example:\n",
    "\"\"\""
   ]
  }
 ],
 "metadata": {
  "kernelspec": {
   "display_name": "Python 3 (ipykernel)",
   "language": "python",
   "name": "python3"
  },
  "language_info": {
   "codemirror_mode": {
    "name": "ipython",
    "version": 3
   },
   "file_extension": ".py",
   "mimetype": "text/x-python",
   "name": "python",
   "nbconvert_exporter": "python",
   "pygments_lexer": "ipython3",
   "version": "3.11.2"
  }
 },
 "nbformat": 4,
 "nbformat_minor": 5
}

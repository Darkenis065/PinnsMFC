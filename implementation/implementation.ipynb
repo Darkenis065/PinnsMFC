{
 "cells": [
  {
   "cell_type": "markdown",
   "id": "cb2452d3-e1b8-4f36-9d61-48a3130e1b30",
   "metadata": {},
   "source": [
    "# Implementation"
   ]
  },
  {
   "cell_type": "markdown",
   "id": "bfccc6a0-d158-4399-85db-2bc4555b80c5",
   "metadata": {},
   "source": [
    "## DeepXDE"
   ]
  },
  {
   "cell_type": "code",
   "execution_count": null,
   "id": "11f14ace-9cd8-482d-a532-a23d8c949883",
   "metadata": {},
   "outputs": [],
   "source": []
  }
 ],
 "metadata": {
  "kernelspec": {
   "display_name": "Python 3 (ipykernel)",
   "language": "python",
   "name": "python3"
  },
  "language_info": {
   "codemirror_mode": {
    "name": "ipython",
    "version": 3
   },
   "file_extension": ".py",
   "mimetype": "text/x-python",
   "name": "python",
   "nbconvert_exporter": "python",
   "pygments_lexer": "ipython3",
   "version": "3.11.2"
  }
 },
 "nbformat": 4,
 "nbformat_minor": 5
}

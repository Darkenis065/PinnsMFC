{
 "cells": [
  {
   "cell_type": "markdown",
   "id": "cb2452d3-e1b8-4f36-9d61-48a3130e1b30",
   "metadata": {},
   "source": [
    "# Implementation"
   ]
  },
  {
   "cell_type": "markdown",
   "id": "bfccc6a0-d158-4399-85db-2bc4555b80c5",
   "metadata": {},
   "source": [
    "## DeepXDE"
   ]
  },
  {
   "cell_type": "code",
   "execution_count": 3,
   "id": "99d48dc8-4f9f-4a81-8caa-e65a9b07dcf8",
   "metadata": {},
   "outputs": [
    {
     "name": "stdout",
     "output_type": "stream",
     "text": [
      "Defaulting to user installation because normal site-packages is not writeable\n",
      "Requirement already satisfied: matplotlib in /usr/lib/python3/dist-packages (3.6.3)\n",
      "Defaulting to user installation because normal site-packages is not writeable\n",
      "Requirement already satisfied: numpy in /usr/lib/python3/dist-packages (1.24.2)\n",
      "Defaulting to user installation because normal site-packages is not writeable\n",
      "Requirement already satisfied: scikit-learn in /home/darkenis/.local/lib/python3.11/site-packages (1.2.2)\n",
      "Requirement already satisfied: numpy>=1.17.3 in /usr/lib/python3/dist-packages (from scikit-learn) (1.24.2)\n",
      "Requirement already satisfied: scipy>=1.3.2 in /usr/lib/python3/dist-packages (from scikit-learn) (1.10.1)\n",
      "Requirement already satisfied: joblib>=1.1.1 in /usr/lib/python3/dist-packages (from scikit-learn) (1.2.0)\n",
      "Requirement already satisfied: threadpoolctl>=2.0.0 in /usr/lib/python3/dist-packages (from scikit-learn) (3.1.0)\n",
      "Defaulting to user installation because normal site-packages is not writeable\n",
      "Requirement already satisfied: scikit-optimize in /home/darkenis/.local/lib/python3.11/site-packages (0.10.2)\n",
      "Requirement already satisfied: joblib>=0.11 in /usr/lib/python3/dist-packages (from scikit-optimize) (1.2.0)\n",
      "Requirement already satisfied: pyaml>=16.9 in /home/darkenis/.local/lib/python3.11/site-packages (from scikit-optimize) (25.1.0)\n",
      "Requirement already satisfied: numpy>=1.20.3 in /usr/lib/python3/dist-packages (from scikit-optimize) (1.24.2)\n",
      "Requirement already satisfied: scipy>=1.1.0 in /usr/lib/python3/dist-packages (from scikit-optimize) (1.10.1)\n",
      "Requirement already satisfied: scikit-learn>=1.0.0 in /home/darkenis/.local/lib/python3.11/site-packages (from scikit-optimize) (1.2.2)\n",
      "Requirement already satisfied: packaging>=21.3 in /usr/lib/python3/dist-packages (from scikit-optimize) (23.0)\n",
      "Requirement already satisfied: PyYAML in /usr/lib/python3/dist-packages (from pyaml>=16.9->scikit-optimize) (6.0)\n",
      "Requirement already satisfied: threadpoolctl>=2.0.0 in /usr/lib/python3/dist-packages (from scikit-learn>=1.0.0->scikit-optimize) (3.1.0)\n",
      "Defaulting to user installation because normal site-packages is not writeable\n",
      "Requirement already satisfied: scipy in /usr/lib/python3/dist-packages (1.10.1)\n",
      "Requirement already satisfied: numpy<1.27.0,>=1.19.5 in /usr/lib/python3/dist-packages (from scipy) (1.24.2)\n"
     ]
    }
   ],
   "source": [
    "'''\n",
    "First of all we are going to install all the depedencies.\n",
    "(Matplotlib, Numpy, Scikit Learn, Scikit Optimize and SciPy)\n",
    "'''\n",
    "!pip install matplotlib\n",
    "!pip install numpy\n",
    "!pip install scikit-learn\n",
    "!pip install scikit-optimize\n",
    "!pip install scipy"
   ]
  },
  {
   "cell_type": "markdown",
   "id": "c496cd84-a2eb-41bc-9074-e24a89e5da26",
   "metadata": {},
   "source": [
    "### TensorFlow"
   ]
  },
  {
   "cell_type": "code",
   "execution_count": 1,
   "id": "11f14ace-9cd8-482d-a532-a23d8c949883",
   "metadata": {},
   "outputs": [
    {
     "name": "stdout",
     "output_type": "stream",
     "text": [
      "Defaulting to user installation because normal site-packages is not writeable\n",
      "\u001b[31mERROR: Could not find a version that satisfies the requirement upgrade (from versions: none)\u001b[0m\u001b[31m\n",
      "\u001b[0m\u001b[31mERROR: No matching distribution found for upgrade\u001b[0m\u001b[31m\n",
      "\u001b[0mDefaulting to user installation because normal site-packages is not writeable\n",
      "Requirement already satisfied: tensorflow in /home/darkenis/.local/lib/python3.11/site-packages (2.14.0)\n",
      "Requirement already satisfied: absl-py>=1.0.0 in /home/darkenis/.local/lib/python3.11/site-packages (from tensorflow) (2.1.0)\n",
      "Requirement already satisfied: astunparse>=1.6.0 in /usr/lib/python3/dist-packages (from tensorflow) (1.6.3)\n",
      "Requirement already satisfied: flatbuffers>=23.5.26 in /home/darkenis/.local/lib/python3.11/site-packages (from tensorflow) (24.3.25)\n",
      "Requirement already satisfied: gast!=0.5.0,!=0.5.1,!=0.5.2,>=0.2.1 in /home/darkenis/.local/lib/python3.11/site-packages (from tensorflow) (0.5.4)\n",
      "Requirement already satisfied: google-pasta>=0.1.1 in /home/darkenis/.local/lib/python3.11/site-packages (from tensorflow) (0.2.0)\n",
      "Requirement already satisfied: h5py>=2.9.0 in /home/darkenis/.local/lib/python3.11/site-packages (from tensorflow) (3.11.0)\n",
      "Requirement already satisfied: libclang>=13.0.0 in /home/darkenis/.local/lib/python3.11/site-packages (from tensorflow) (18.1.1)\n",
      "Requirement already satisfied: ml-dtypes==0.2.0 in /home/darkenis/.local/lib/python3.11/site-packages (from tensorflow) (0.2.0)\n",
      "Requirement already satisfied: numpy>=1.23.5 in /usr/lib/python3/dist-packages (from tensorflow) (1.24.2)\n",
      "Requirement already satisfied: opt-einsum>=2.3.2 in /home/darkenis/.local/lib/python3.11/site-packages (from tensorflow) (3.3.0)\n",
      "Requirement already satisfied: packaging in /usr/lib/python3/dist-packages (from tensorflow) (23.0)\n",
      "Requirement already satisfied: protobuf!=4.21.0,!=4.21.1,!=4.21.2,!=4.21.3,!=4.21.4,!=4.21.5,<5.0.0dev,>=3.20.3 in /home/darkenis/.local/lib/python3.11/site-packages (from tensorflow) (4.25.3)\n",
      "Requirement already satisfied: setuptools in /usr/lib/python3/dist-packages (from tensorflow) (66.1.1)\n",
      "Requirement already satisfied: six>=1.12.0 in /usr/lib/python3/dist-packages (from tensorflow) (1.16.0)\n",
      "Requirement already satisfied: termcolor>=1.1.0 in /home/darkenis/.local/lib/python3.11/site-packages (from tensorflow) (2.4.0)\n",
      "Requirement already satisfied: typing-extensions>=3.6.6 in /home/darkenis/.local/lib/python3.11/site-packages (from tensorflow) (4.12.1)\n",
      "Requirement already satisfied: wrapt<1.15,>=1.11.0 in /home/darkenis/.local/lib/python3.11/site-packages (from tensorflow) (1.14.1)\n",
      "Requirement already satisfied: tensorflow-io-gcs-filesystem>=0.23.1 in /home/darkenis/.local/lib/python3.11/site-packages (from tensorflow) (0.37.0)\n",
      "Requirement already satisfied: grpcio<2.0,>=1.24.3 in /home/darkenis/.local/lib/python3.11/site-packages (from tensorflow) (1.64.1)\n",
      "Requirement already satisfied: tensorboard<2.15,>=2.14 in /home/darkenis/.local/lib/python3.11/site-packages (from tensorflow) (2.14.1)\n",
      "Requirement already satisfied: tensorflow-estimator<2.15,>=2.14.0 in /home/darkenis/.local/lib/python3.11/site-packages (from tensorflow) (2.14.0)\n",
      "Requirement already satisfied: keras<2.15,>=2.14.0 in /home/darkenis/.local/lib/python3.11/site-packages (from tensorflow) (2.14.0)\n",
      "Requirement already satisfied: google-auth<3,>=1.6.3 in /home/darkenis/.local/lib/python3.11/site-packages (from tensorboard<2.15,>=2.14->tensorflow) (2.29.0)\n",
      "Requirement already satisfied: google-auth-oauthlib<1.1,>=0.5 in /home/darkenis/.local/lib/python3.11/site-packages (from tensorboard<2.15,>=2.14->tensorflow) (1.0.0)\n",
      "Requirement already satisfied: markdown>=2.6.8 in /usr/lib/python3/dist-packages (from tensorboard<2.15,>=2.14->tensorflow) (3.4.1)\n",
      "Requirement already satisfied: requests<3,>=2.21.0 in /home/darkenis/.local/lib/python3.11/site-packages (from tensorboard<2.15,>=2.14->tensorflow) (2.32.3)\n",
      "Requirement already satisfied: tensorboard-data-server<0.8.0,>=0.7.0 in /home/darkenis/.local/lib/python3.11/site-packages (from tensorboard<2.15,>=2.14->tensorflow) (0.7.2)\n",
      "Requirement already satisfied: werkzeug>=1.0.1 in /home/darkenis/.local/lib/python3.11/site-packages (from tensorboard<2.15,>=2.14->tensorflow) (3.0.3)\n",
      "Requirement already satisfied: cachetools<6.0,>=2.0.0 in /home/darkenis/.local/lib/python3.11/site-packages (from google-auth<3,>=1.6.3->tensorboard<2.15,>=2.14->tensorflow) (5.3.3)\n",
      "Requirement already satisfied: pyasn1-modules>=0.2.1 in /home/darkenis/.local/lib/python3.11/site-packages (from google-auth<3,>=1.6.3->tensorboard<2.15,>=2.14->tensorflow) (0.4.0)\n",
      "Requirement already satisfied: rsa<5,>=3.1.4 in /home/darkenis/.local/lib/python3.11/site-packages (from google-auth<3,>=1.6.3->tensorboard<2.15,>=2.14->tensorflow) (4.9)\n",
      "Requirement already satisfied: requests-oauthlib>=0.7.0 in /home/darkenis/.local/lib/python3.11/site-packages (from google-auth-oauthlib<1.1,>=0.5->tensorboard<2.15,>=2.14->tensorflow) (2.0.0)\n",
      "Requirement already satisfied: charset-normalizer<4,>=2 in /usr/lib/python3/dist-packages (from requests<3,>=2.21.0->tensorboard<2.15,>=2.14->tensorflow) (3.0.1)\n",
      "Requirement already satisfied: idna<4,>=2.5 in /usr/lib/python3/dist-packages (from requests<3,>=2.21.0->tensorboard<2.15,>=2.14->tensorflow) (3.3)\n",
      "Requirement already satisfied: urllib3<3,>=1.21.1 in /home/darkenis/.local/lib/python3.11/site-packages (from requests<3,>=2.21.0->tensorboard<2.15,>=2.14->tensorflow) (2.2.2)\n",
      "Requirement already satisfied: certifi>=2017.4.17 in /usr/lib/python3/dist-packages (from requests<3,>=2.21.0->tensorboard<2.15,>=2.14->tensorflow) (2022.9.24)\n",
      "Requirement already satisfied: MarkupSafe>=2.1.1 in /usr/lib/python3/dist-packages (from werkzeug>=1.0.1->tensorboard<2.15,>=2.14->tensorflow) (2.1.2)\n",
      "Requirement already satisfied: pyasn1<0.7.0,>=0.4.6 in /home/darkenis/.local/lib/python3.11/site-packages (from pyasn1-modules>=0.2.1->google-auth<3,>=1.6.3->tensorboard<2.15,>=2.14->tensorflow) (0.6.0)\n",
      "Requirement already satisfied: oauthlib>=3.0.0 in /home/darkenis/.local/lib/python3.11/site-packages (from requests-oauthlib>=0.7.0->google-auth-oauthlib<1.1,>=0.5->tensorboard<2.15,>=2.14->tensorflow) (3.2.2)\n"
     ]
    }
   ],
   "source": [
    "'''\n",
    "Now we need to install from pip the backend library and the backend in this case we will\n",
    "use Tensorflow2.x and then we will install DeepXDE also from pip.\n",
    "'''\n",
    "!pip install upgrade pip\n",
    "!pip install tensorflow"
   ]
  },
  {
   "cell_type": "code",
   "execution_count": 2,
   "id": "b63c51c4-78b4-493e-903e-48282c244990",
   "metadata": {},
   "outputs": [
    {
     "name": "stdout",
     "output_type": "stream",
     "text": [
      "Defaulting to user installation because normal site-packages is not writeable\n",
      "Requirement already satisfied: deepxde in /home/darkenis/.local/lib/python3.11/site-packages (1.14.0)\n",
      "Requirement already satisfied: matplotlib in /usr/lib/python3/dist-packages (from deepxde) (3.6.3)\n",
      "Requirement already satisfied: numpy in /usr/lib/python3/dist-packages (from deepxde) (1.24.2)\n",
      "Requirement already satisfied: scikit-learn in /home/darkenis/.local/lib/python3.11/site-packages (from deepxde) (1.2.2)\n",
      "Requirement already satisfied: scikit-optimize>=0.9.0 in /home/darkenis/.local/lib/python3.11/site-packages (from deepxde) (0.10.2)\n",
      "Requirement already satisfied: scipy in /usr/lib/python3/dist-packages (from deepxde) (1.10.1)\n",
      "Requirement already satisfied: joblib>=0.11 in /usr/lib/python3/dist-packages (from scikit-optimize>=0.9.0->deepxde) (1.2.0)\n",
      "Requirement already satisfied: pyaml>=16.9 in /home/darkenis/.local/lib/python3.11/site-packages (from scikit-optimize>=0.9.0->deepxde) (25.1.0)\n",
      "Requirement already satisfied: packaging>=21.3 in /usr/lib/python3/dist-packages (from scikit-optimize>=0.9.0->deepxde) (23.0)\n",
      "Requirement already satisfied: threadpoolctl>=2.0.0 in /usr/lib/python3/dist-packages (from scikit-learn->deepxde) (3.1.0)\n",
      "Requirement already satisfied: PyYAML in /usr/lib/python3/dist-packages (from pyaml>=16.9->scikit-optimize>=0.9.0->deepxde) (6.0)\n"
     ]
    }
   ],
   "source": [
    "'''\n",
    "Now we will install DeepXDE library\n",
    "'''\n",
    "!pip install deepxde"
   ]
  },
  {
   "cell_type": "code",
   "execution_count": null,
   "id": "4779a3f4-9054-4cfe-b531-f6aea8d1322e",
   "metadata": {},
   "outputs": [
    {
     "name": "stdout",
     "output_type": "stream",
     "text": [
      "Warning: 1000 points required, but 1035 points sampled.\n",
      "Compiling model...\n",
      "Building feed-forward neural network...\n",
      "'build' took 0.287184 s\n",
      "\n",
      "'compile' took 4.538677 s\n",
      "\n",
      "Warning: epochs is deprecated and will be removed in a future version. Use iterations instead.\n",
      "Training model...\n",
      "\n",
      "Step      Train loss                                            Test loss                                             Test metric\n",
      "0         [1.46e+01, 1.11e+00, 2.37e+00, 1.21e-01, 6.59e+00]    [1.46e+01, 1.11e+00, 2.37e+00, 1.21e-01, 6.59e+00]    []  \n",
      "1000      [6.89e-03, 1.70e-01, 1.63e-01, 9.41e-02, 2.05e+00]    [5.01e-03, 1.70e-01, 1.63e-01, 9.41e-02, 2.05e+00]    []  \n",
      "2000      [5.41e-03, 1.68e-01, 1.82e-01, 9.40e-02, 2.02e+00]    [3.55e-03, 1.68e-01, 1.82e-01, 9.40e-02, 2.02e+00]    []  \n",
      "3000      [5.53e-03, 1.60e-01, 1.73e-01, 9.36e-02, 2.02e+00]    [3.55e-03, 1.60e-01, 1.73e-01, 9.36e-02, 2.02e+00]    []  \n",
      "4000      [3.01e-03, 1.55e-01, 1.79e-01, 8.63e-02, 2.00e+00]    [1.71e-03, 1.55e-01, 1.79e-01, 8.63e-02, 2.00e+00]    []  \n",
      "5000      [1.28e-03, 1.52e-01, 1.76e-01, 8.22e-02, 2.00e+00]    [8.49e-04, 1.52e-01, 1.76e-01, 8.22e-02, 2.00e+00]    []  \n",
      "6000      [4.83e-04, 1.51e-01, 1.81e-01, 8.11e-02, 2.00e+00]    [3.16e-04, 1.51e-01, 1.81e-01, 8.11e-02, 2.00e+00]    []  \n",
      "7000      [2.56e-04, 1.51e-01, 1.80e-01, 8.07e-02, 2.00e+00]    [1.72e-04, 1.51e-01, 1.80e-01, 8.07e-02, 2.00e+00]    []  \n",
      "8000      [1.95e-04, 1.50e-01, 1.81e-01, 8.05e-02, 2.00e+00]    [1.66e-04, 1.50e-01, 1.81e-01, 8.05e-02, 2.00e+00]    []  \n",
      "9000      [2.10e-04, 1.50e-01, 1.82e-01, 8.05e-02, 2.00e+00]    [1.88e-04, 1.50e-01, 1.82e-01, 8.05e-02, 2.00e+00]    []  \n"
     ]
    }
   ],
   "source": [
    "import deepxde as dde\n",
    "from deepxde.backend import tf\n",
    "import numpy as np\n",
    "import matplotlib.pyplot as plt\n",
    "\n",
    "# Definir el dominio rectangular\n",
    "geom = dde.geometry.Rectangle([0, 0], [1, 2])  # x ∈ [0, 1], y ∈ [0, 2]\n",
    "\n",
    "# Definir la ecuación de Poisson: ∇²V = 4\n",
    "def pde(x, y):\n",
    "    dy_xx = dde.grad.hessian(y, x, i=0, j=0)\n",
    "    dy_yy = dde.grad.hessian(y, x, i=1, j=1)\n",
    "    return dy_xx + dy_yy - 4\n",
    "\n",
    "# Condiciones de frontera\n",
    "def boundary_x1(x, on_boundary):\n",
    "    return on_boundary and np.isclose(x[0], 1)\n",
    "\n",
    "def boundary_x2(x, on_boundary):\n",
    "    return on_boundary and np.isclose(x[-1], 2)\n",
    "\n",
    "def boundary_y0(x, on_boundary):\n",
    "    return on_boundary and np.isclose(x[1], 0)\n",
    "\n",
    "def boundary_y2(x, on_boundary):\n",
    "    return on_boundary and np.isclose(x[-1], 2)\n",
    "\n",
    "# Definir condiciones de frontera (Dirichlet)\n",
    "bc1 = dde.DirichletBC(geom, lambda x: x[1]**2, boundary_x1)\n",
    "bc2 = dde.DirichletBC(geom, lambda x: (x[-1] - 1)**2, boundary_x2)\n",
    "bc3 = dde.DirichletBC(geom, lambda x: x[0]**2, boundary_y0)\n",
    "bc4 = dde.DirichletBC(geom, lambda x: (x[-1] - 2)**2, boundary_y2)\n",
    "\n",
    "# Solución exacta para evaluar el error\n",
    "def exact_solution(x):\n",
    "    return ((x[:, 0] - x[:, 1])**2).reshape(-1, 1)\n",
    "# Preparar el problema\n",
    "data = dde.data.PDE(\n",
    "    geom,\n",
    "    pde,\n",
    "    [bc1, bc2, bc3, bc4],\n",
    "    num_domain=256,\n",
    "    num_boundary=64,\n",
    "    solution=exact_solution,\n",
    "    num_test=1000,\n",
    ")\n",
    "\n",
    "# Red neuronal\n",
    "net = dde.maps.FNN([2] + [50]*3 + [1], activation=\"tanh\", kernel_initializer=\"Glorot normal\")\n",
    "\n",
    "# Modelo\n",
    "model = dde.Model(data, net)\n",
    "\n",
    "# Entrenamiento\n",
    "model.compile(\"adam\", lr=1e-3)\n",
    "losshistory, train_state = model.train(epochs=10000)\n",
    "\n",
    "# Evaluar el error L2 con la solución exacta\n",
    "X_test = data.test_points()  # ← Añade los paréntesis aquí\n",
    "l2_error = dde.metrics.l2_relative_error(\n",
    "    exact_solution(X_test), model.predict(X_test)\n",
    ")\n",
    "print(f\"\\nError relativo L2: {l2_error:.4e}\")\n",
    "\n",
    "# Graficar el historial de pérdida\n",
    "dde.utils.plot_loss_history(losshistory)\n",
    "\n",
    "# (Opcional) Graficar la solución en una cuadrícula\n",
    "X, Y = np.meshgrid(np.linspace(0, 1, 100), np.linspace(0, 2, 100))\n",
    "XY = np.hstack((X.flatten()[:, None], Y.flatten()[:, None]))\n",
    "V_pred = model.predict(XY).reshape(100, 100)\n",
    "\n",
    "plt.figure(figsize=(6, 5))\n",
    "plt.contourf(X, Y, V_pred, levels=100, cmap=\"viridis\")\n",
    "plt.colorbar(label=\"V(x, y)\")\n",
    "plt.xlabel(\"x\")\n",
    "plt.ylabel(\"y\")\n",
    "plt.title(\"Solución aproximada de V(x, y)\")\n",
    "plt.tight_layout()\n",
    "plt.show()\n"
   ]
  },
  {
   "cell_type": "markdown",
   "id": "7692acf5-8a6d-41d2-9a73-70114d7be35e",
   "metadata": {},
   "source": [
    "### Pytorch"
   ]
  },
  {
   "cell_type": "code",
   "execution_count": null,
   "id": "40909b1d-8e86-4066-8dbb-fb2fda6d6eb2",
   "metadata": {},
   "outputs": [],
   "source": []
  }
 ],
 "metadata": {
  "kernelspec": {
   "display_name": "Python 3 (ipykernel)",
   "language": "python",
   "name": "python3"
  },
  "language_info": {
   "codemirror_mode": {
    "name": "ipython",
    "version": 3
   },
   "file_extension": ".py",
   "mimetype": "text/x-python",
   "name": "python",
   "nbconvert_exporter": "python",
   "pygments_lexer": "ipython3",
   "version": "3.11.2"
  }
 },
 "nbformat": 4,
 "nbformat_minor": 5
}

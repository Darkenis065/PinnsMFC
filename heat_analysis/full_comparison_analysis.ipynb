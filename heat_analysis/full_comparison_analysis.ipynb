{
 "cells": [
  {
   "cell_type": "markdown",
   "metadata": {},
   "source": [
    "# Análisis Comparativo: PINNs vs. Diferencias Finitas para la Ecuación de Calor 2D"
   ]
  },
  {
   "cell_type": "markdown",
   "metadata": {},
   "source": [
    "## Sección 0: Definición del Problema y Configuración"
   ]
  },
  {
   "cell_type": "markdown",
   "metadata": {},
   "source": [
    "### Descripción de la EDP, Dominio y Condiciones\n",
    "\n",
    "La ecuación de calor bidimensional dependiente del tiempo se define como:\n",
    "\n",
    "$$\\frac{\\partial T}{\\partial t} = \\alpha \\left( \\frac{\\partial^2 T}{\\partial x^2} + \\frac{\\partial^2 T}{\\partial y^2} \\right)$$\n",
    "\n",
    "Donde:\n",
    "- $T(x, y, t)$ es la temperatura en la posición $(x, y)$ en el tiempo $t$.\n",
    "- $\\alpha$ es la difusividad térmica del material.\n",
    "\n",
    "**Dominio:**\n",
    "- Espacial: $x \\in [0, 1]$, $y \\in [0, 1]$\n",
    "- Temporal: $t \\in [0, 1]$\n",
    "\n",
    "**Condiciones de Frontera (Dirichlet):**\n",
    "- $T(0, y, t) = 0$\n",
    "- $T(1, y, t) = 0$\n",
    "- $T(x, 0, t) = 0$\n",
    "- $T(x, 1, t) = 0$\n",
    "\n",
    "**Condición Inicial:**\n",
    "- $T(x, y, 0) = \\sin(\\pi x) \\sin(\\pi y)$"
   ]
  },
  {
   "cell_type": "markdown",
   "metadata": {},
   "source": [
    "### Parámetros Globales"
   ]
  },
  {
   "cell_type": "code",
   "execution_count": null,
   "metadata": {},
   "outputs": [],
   "source": [
    "# Parámetros físicos y de simulación\n",
    "ALPHA = 0.01        # Difusividad térmica\n",
    "X_MIN, X_MAX = 0.0, 1.0\n",
    "Y_MIN, Y_MAX = 0.0, 1.0\n",
    "T_MIN, T_MAX = 0.0, 1.0 # Tiempo inicial y final\n",
    "\n",
    "# Parámetros de la malla (para FD y predicción PINN)\n",
    "NX = 51            # Número de puntos en x (reducido para ejecución más rápida)\n",
    "NY = 51            # Número de puntos en y (reducido para ejecución más rápida)\n",
    "NT_FD = 2000       # Número de pasos de tiempo para FD (estimado para estabilidad)\n",
    "\n",
    "# Parámetros para la PINN\n",
    "PINN_EPOCHS = 10000 # Reducido para ejecución más rápida, idealmente >50000\n",
    "PINN_LR = 1e-3\n",
    "PINN_NUM_DOMAIN = 2500\n",
    "PINN_NUM_BOUNDARY = 100\n",
    "PINN_NUM_INITIAL = 100\n",
    "PINN_LAYERS = [3] + [32] * 4 + [1] # [t, x, y] -> [T]"
   ]
  },
  {
   "cell_type": "markdown",
   "metadata": {},
   "source": [
    "### Solución Analítica"
   ]
  },
  {
   "cell_type": "code",
   "execution_count": null,
   "metadata": {},
   "outputs": [],
   "source": [
    "import numpy as np\n",
    "\n",
    "def T_analitica_func(x, y, t, alpha=ALPHA):\n",
    "    \"\"\"Calcula la solución analítica de la ecuación de calor 2D.\"\"\"\n",
    "    return np.exp(-2 * np.pi**2 * alpha * t) * np.sin(np.pi * x) * np.sin(np.pi * y)"
   ]
  },
  {
   "cell_type": "markdown",
   "metadata": {},
   "source": [
    "### Importaciones Necesarias"
   ]
  },
  {
   "cell_type": "code",
   "execution_count": null,
   "metadata": {},
   "outputs": [],
   "source": [
    "import deepxde as dde\n",
    "import matplotlib.pyplot as plt\n",
    "import time\n",
    "from mpl_toolkits.mplot3d import Axes3D\n",
    "from matplotlib import cm\n",
    "\n",
    "# Configuración para DeepXDE (si es necesario, ej. backend)\n",
    "# dde.config.set_default_backend(\"pytorch\") # o \"tensorflow\" o \"jax\"\n",
    "\n",
    "print(f\"Usando backend de DeepXDE: {dde.backend.backend_name}\")"
   ]
  },
  {
   "cell_type": "markdown",
   "metadata": {},
   "source": [
    "## Sección 1: Método con Red Neuronal Informada por la Física (PINN)"
   ]
  },
  {
   "cell_type": "code",
   "execution_count": null,
   "metadata": {},
   "outputs": [],
   "source": [
    "# 1. Definición de la EDP y Geometría para PINN\n",
    "def pde(x, T):\n",
    "    \"\"\"Define la Ecuación Diferencial Parcial (EDP) para la ecuación de calor.\"\"\"\n",
    "    # x es una matriz donde las columnas son t, x, y\n",
    "    # T es la salida de la red (temperatura)\n",
    "    dT_dt = dde.grad.jacobian(T, x, i=0, j=0)  # Derivada de T con respecto a la primera variable de entrada (t)\n",
    "    dT_dxx = dde.grad.hessian(T, x, i=0, j=1) # Derivada segunda de T con respecto a la segunda variable de entrada (x)\n",
    "    dT_dyy = dde.grad.hessian(T, x, i=0, j=2) # Derivada segunda de T con respecto a la tercera variable de entrada (y)\n",
    "    return dT_dt - ALPHA * (dT_dxx + dT_dyy)\n",
    "\n",
    "# Dominio geométrico y temporal\n",
    "geom = dde.geometry.Rectangle([X_MIN, Y_MIN], [X_MAX, Y_MAX])\n",
    "timedomain = dde.geometry.TimeDomain(T_MIN, T_MAX)\n",
    "geomtime = dde.geometry.GeometryXTime(geom, timedomain)\n",
    "\n",
    "# Condiciones de frontera (BC)\n",
    "# T(0, y, t) = 0  => on_boundary_left\n",
    "# T(1, y, t) = 0  => on_boundary_right\n",
    "# T(x, 0, t) = 0  => on_boundary_bottom\n",
    "# T(x, 1, t) = 0  => on_boundary_top\n",
    "\n",
    "def boundary_func(x, on_boundary):\n",
    "    # x es una matriz (t,x,y)\n",
    "    return on_boundary and not (\n",
    "        np.isclose(x[0], T_MAX) # No aplicar BCs estrictas al tiempo final para permitir que la PDE domine\n",
    "    )\n",
    "\n",
    "bc_zeros = dde.icbc.DirichletBC(\n",
    "    geomtime,\n",
    "    lambda x: 0.0, # T = 0 en las fronteras\n",
    "    boundary_func\n",
    ")\n",
    "\n",
    "# Condición inicial (IC)\n",
    "# T(x, y, 0) = sin(pi*x)sin(pi*y)\n",
    "def initial_condition_func(x):\n",
    "    # x es una matriz (t,x,y), pero aquí t=0\n",
    "    return np.sin(np.pi * x[:, 1:2]) * np.sin(np.pi * x[:, 2:3]) # x[:, 1:2] es x, x[:, 2:3] es y\n",
    "\n",
    "ic = dde.icbc.IC(\n",
    "    geomtime,\n",
    "    initial_condition_func,\n",
    "    lambda _, on_initial: on_initial\n",
    ")\n",
    "\n",
    "# Definición del problema de datos para DeepXDE\n",
    "data = dde.data.TimePDE(\n",
    "    geomtime,\n",
    "    pde,\n",
    "    [bc_zeros, ic],\n",
    "    num_domain=PINN_NUM_DOMAIN,      # Puntos de colocación dentro del dominio\n",
    "    num_boundary=PINN_NUM_BOUNDARY,  # Puntos en las fronteras\n",
    "    num_initial=PINN_NUM_INITIAL,    # Puntos para la condición inicial\n",
    "    # solution=lambda x: T_analitica_func(x[:,1:2], x[:,2:3], x[:,0:1]), # Descomentar para calcular error durante entrenamiento\n",
    "    # num_test=1000 # Puntos para testeo si se provee solución\n",
    ")\n",
    "\n",
    "# 2. Construcción y entrenamiento de la PINN\n",
    "net = dde.nn.FNN(PINN_LAYERS, \"tanh\", \"Glorot normal\") # Arquitectura de la red\n",
    "model = dde.Model(data, net)\n",
    "\n",
    "# Compilación y entrenamiento\n",
    "print(\"Iniciando entrenamiento de la PINN...\")\n",
    "start_time_pinn = time.time()\n",
    "losshistory, train_state = model.train(epochs=PINN_EPOCHS, learning_rate=PINN_LR)\n",
    "end_time_pinn = time.time()\n",
    "tiempo_pinn = end_time_pinn - start_time_pinn\n",
    "print(f\"Entrenamiento de la PINN completado en {tiempo_pinn:.2f} segundos.\")\n",
    "\n",
    "# Guardar historial de pérdida\n",
    "loss_pinn_epochs = losshistory.epoch\n",
    "loss_pinn_values = losshistory.loss_train.sum(axis=1) # Sumar todas las componentes de la pérdida (PDE, BC, IC)"
   ]
  },
  {
   "cell_type": "markdown",
   "metadata": {},
   "source": [
    "### Resultados de la PINN"
   ]
  },
  {
   "cell_type": "code",
   "execution_count": null,
   "metadata": {},
   "outputs": [],
   "source": [
    "# Preparar la malla para la predicción en t = T_MAX\n",
    "x_space = np.linspace(X_MIN, X_MAX, NX)\n",
    "y_space = np.linspace(Y_MIN, Y_MAX, NY)\n",
    "X_grid, Y_grid = np.meshgrid(x_space, y_space)\n",
    "\n",
    "# Puntos de predicción (t, x, y) para el tiempo final T_MAX\n",
    "t_final_flat = np.full_like(X_grid.flatten(), T_MAX)\n",
    "x_flat = X_grid.flatten()\n",
    "y_flat = Y_grid.flatten()\n",
    "\n",
    "prediction_points = np.vstack((t_final_flat, x_flat, y_flat)).T\n",
    "\n",
    "# Predicción con la PINN entrenada\n",
    "T_pinn_flat = model.predict(prediction_points)\n",
    "T_pinn = T_pinn_flat.reshape(NX, NY)\n",
    "\n",
    "# Calcular solución analítica en la misma malla para comparación\n",
    "T_analitica_final = T_analitica_func(X_grid, Y_grid, T_MAX)\n",
    "\n",
    "print(\"Predicción de la PINN y cálculo de la solución analítica en t=T_MAX completados.\")"
   ]
  },
  {
   "cell_type": "markdown",
   "metadata": {},
   "source": [
    "### Visualización (Sección 1)"
   ]
  },
  {
   "cell_type": "code",
   "execution_count": null,
   "metadata": {},
   "outputs": [],
   "source": [
    "fig_pinn = plt.figure(figsize=(18, 5))\n",
    "\n",
    "# 1. Mapa de calor de la Solución Numérica (PINN)\n",
    "ax1 = fig_pinn.add_subplot(131)\n",
    "contour_pinn = ax1.contourf(X_grid, Y_grid, T_pinn, levels=100, cmap=cm.jet)\n",
    "fig_pinn.colorbar(contour_pinn, ax=ax1)\n",
    "ax1.set_title(f'Solución PINN en t={T_MAX}')\n",
    "ax1.set_xlabel('x')\n",
    "ax1.set_ylabel('y')\n",
    "\n",
    "# 2. Mapa de calor de la Solución Analítica\n",
    "ax2 = fig_pinn.add_subplot(132)\n",
    "contour_analitica_pinn = ax2.contourf(X_grid, Y_grid, T_analitica_final, levels=100, cmap=cm.jet)\n",
    "fig_pinn.colorbar(contour_analitica_pinn, ax=ax2)\n",
    "ax2.set_title(f'Solución Analítica en t={T_MAX}')\n",
    "ax2.set_xlabel('x')\n",
    "ax2.set_ylabel('y')\n",
    "\n",
    "# 3. Gráfico de Pérdida (Loss) vs. Época\n",
    "ax3 = fig_pinn.add_subplot(133)\n",
    "ax3.plot(loss_pinn_epochs, loss_pinn_values, label='Pérdida Total de Entrenamiento')\n",
    "ax3.set_yscale('log')\n",
    "ax3.set_title('Pérdida de la PINN vs. Época')\n",
    "ax3.set_xlabel('Época')\n",
    "ax3.set_ylabel('Pérdida (log scale)')\n",
    "ax3.legend()\n",
    "ax3.grid(True)\n",
    "\n",
    "plt.tight_layout()\n",
    "plt.show()"
   ]
  },
  {
   "cell_type": "markdown",
  },
  {
   "cell_type": "markdown",
   "metadata": {},
   "source": [
    "### Resultados de la PINN"
   ]
  },
  {
   "cell_type": "code",
   "execution_count": null,
   "metadata": {},
   "outputs": [],
   "source": [
    "# 1. Implementación del Solucionador de Diferencias Finitas (FTCS)\n",
    "\n",
    "# Parámetros para Diferencias Finitas\n",
    "dx = (X_MAX - X_MIN) / (NX - 1)\n",
    "dy = (Y_MAX - Y_MIN) / (NY - 1)\n",
    "dt = (T_MAX - T_MIN) / NT_FD # dt se define aquí, pero cuidado con la estabilidad\n",
    "\n",
    "# Constante de estabilidad (asegurarse de que sea < 0.25 para 2D FTCS)\n",
    "stability_factor = ALPHA * dt * (1/dx**2 + 1/dy**2)\n",
    "print(f\"Factor de estabilidad para FD (FTCS): {stability_factor:.4f}\")\n",
    "if stability_factor >= 0.25:\n",
    "    print(\"¡Advertencia! El esquema FTCS puede ser inestable con estos parámetros.\")\n",
    "    print(f\"Se recomienda dt <= {0.24 / (ALPHA * (1/dx**2 + 1/dy**2)):.6f}\")\n",
    "    # Ajustar dt para estabilidad si es necesario, o aumentar NT_FD\n",
    "    # dt = 0.24 / (ALPHA * (1/dx**2 + 1/dy**2))\n",
    "    # NT_FD = int((T_MAX - T_MIN) / dt)\n",
    "    # print(f\"Nuevo dt sugerido: {dt}, Nuevo NT_FD: {NT_FD}\")\n",
    "\n",
    "# Inicializar la malla\n",
    "T_fd = np.zeros((NX, NY))\n",
    "x_fd_space = np.linspace(X_MIN, X_MAX, NX)\n",
    "y_fd_space = np.linspace(Y_MIN, Y_MAX, NY)\n",
    "X_fd_grid, Y_fd_grid = np.meshgrid(x_fd_space, y_fd_space)\n",
    "\n",
    "# Aplicar condición inicial T(x,y,0) = sin(pi*x)sin(pi*y)\n",
    "T_fd = T_analitica_func(X_fd_grid, Y_fd_grid, 0) # Usamos la función analítica en t=0\n",
    "\n",
    "# Copia para las condiciones de frontera (se mantienen en 0)\n",
    "T_fd_new = np.copy(T_fd)\n",
    "\n",
    "print(\"Iniciando simulación con Diferencias Finitas (FTCS)...\")\n",
    "start_time_fd = time.time()\n",
    "\n",
    "# Bucle temporal FTCS\n",
    "for n in range(NT_FD):\n",
    "    # Actualizar puntos interiores\n",
    "    for i in range(1, NX - 1):\n",
    "        for j in range(1, NY - 1):\n",
    "            T_fd_new[i, j] = T_fd[i, j] + ALPHA * dt * (\n",
    "                (T_fd[i+1, j] - 2*T_fd[i, j] + T_fd[i-1, j]) / dx**2 + \n",
    "                (T_fd[i, j+1] - 2*T_fd[i, j] + T_fd[i, j-1]) / dy**2\n",
    "            )\n",
    "    \n",
    "    # Condiciones de frontera (Dirichlet, T=0)\n",
    "    # Ya están en cero por la inicialización y no se tocan los bordes en el loop anterior\n",
    "    # T_fd_new[0, :] = 0\n",
    "    # T_fd_new[-1, :] = 0\n",
    "    # T_fd_new[:, 0] = 0\n",
    "    # T_fd_new[:, -1] = 0\n",
    "    \n",
    "    T_fd = np.copy(T_fd_new)\n",
    "\n",
    "end_time_fd = time.time()\n",
    "tiempo_fd = end_time_fd - start_time_fd\n",
    "print(f\"Simulación con Diferencias Finitas completada en {tiempo_fd:.2f} segundos.\")\n"
   ]
  },
  {
   "cell_type": "markdown",
   "metadata": {},
   "source": [
    "### Resultados de FD"
   ]
  },
  {
   "cell_type": "code",
   "execution_count": null,
   "metadata": {},
   "outputs": [],
   "source": [
    "# La solución T_fd ya contiene el resultado en t=T_MAX\n",
    "# Calcular solución analítica en la misma malla para comparación\n",
    "T_analitica_final_fd = T_analitica_func(X_fd_grid, Y_fd_grid, T_MAX)\n",
    "\n",
    "print(\"Solución de Diferencias Finitas y cálculo de la solución analítica en t=T_MAX completados.\")"
   ]
  },
  {
   "cell_type": "markdown",
   "metadata": {},
   "source": [
    "### Visualización (Sección 2)"
   ]
  },
  {
   "cell_type": "code",
   "execution_count": null,
   "metadata": {},
   "outputs": [],
   "source": [
    "fig_fd = plt.figure(figsize=(12, 5))\n",
    "\n",
    "# 1. Mapa de calor de la Solución Numérica (Diferencias Finitas)\n",
    "ax_fd1 = fig_fd.add_subplot(121)\n",
    "contour_fd = ax_fd1.contourf(X_fd_grid, Y_fd_grid, T_fd, levels=100, cmap=cm.jet)\n",
    "fig_fd.colorbar(contour_fd, ax=ax_fd1)\n",
    "ax_fd1.set_title(f'Solución Diferencias Finitas en t={T_MAX}')\n",
    "ax_fd1.set_xlabel('x')\n",
    "ax_fd1.set_ylabel('y')\n",
    "\n",
    "# 2. Mapa de calor de la Solución Analítica\n",
    "ax_fd2 = fig_fd.add_subplot(122)\n",
    "contour_analitica_fd = ax_fd2.contourf(X_fd_grid, Y_fd_grid, T_analitica_final_fd, levels=100, cmap=cm.jet)\n",
    "fig_fd.colorbar(contour_analitica_fd, ax=ax_fd2)\n",
    "ax_fd2.set_title(f'Solución Analítica en t={T_MAX}')\n",
    "ax_fd2.set_xlabel('x')\n",
    "ax_fd2.set_ylabel('y')\n",
    "\n",
    "plt.tight_layout()\n",
    "plt.show()"
   ]
  },
  {
   "cell_type": "markdown",
  },
  {
   "cell_type": "markdown",
   "metadata": {},
   "source": [
    "### Visualización (Sección 1)"
   ]
  },
  {
   "cell_type": "code",
   "execution_count": null,
   "metadata": {},
   "outputs": [],
   "source": [
    "# Comparación Cuantitativa\n",
    "print(\"--- Tiempos de Ejecución ---\")\n",
    "print(f\"Tiempo de entrenamiento/ejecución PINN: {tiempo_pinn:.2f} segundos\")\n",
    "print(f\"Tiempo de simulación Diferencias Finitas: {tiempo_fd:.2f} segundos\")\n",
    "\n",
    "# Error Absoluto Medio (MAE)\n",
    "# Asegurarse que T_pinn, T_fd y T_analitica_final (o T_analitica_final_fd) tengan las mismas dimensiones\n",
    "# T_analitica_final fue calculada en la malla de la PINN (X_grid, Y_grid)\n",
    "# T_analitica_final_fd fue calculada en la malla de FD (X_fd_grid, Y_fd_grid)\n",
    "# Si NX y NY son iguales para ambas, X_grid/Y_grid son equivalentes a X_fd_grid/Y_fd_grid\n",
    "\n",
    "mae_pinn = np.mean(np.abs(T_pinn - T_analitica_final))\n",
    "mae_fd = np.mean(np.abs(T_fd - T_analitica_final_fd)) # Usar la analítica calculada en la misma malla que T_fd\n",
    "\n",
    "print(\"\\n--- Error Absoluto Medio (MAE) en t=T_MAX ---\")\n",
    "print(f\"MAE PINN vs Analítica: {mae_pinn:.6f}\")\n",
    "print(f\"MAE FD vs Analítica:   {mae_fd:.6f}\")\n",
    "\n",
    "if mae_pinn < mae_fd:\n",
    "    print(\"\\nLa PINN fue más precisa en este caso.\")\n",
    "elif mae_fd < mae_pinn:\n",
    "    print(\"\\nLas Diferencias Finitas fueron más precisas en este caso.\")\n",
    "else:\n",
    "    print(\"\\nAmbos métodos tuvieron una precisión similar.\")"
   ]
  },
  {
   "cell_type": "markdown",
   "metadata": {},
   "source": [
    "### Visualización Comparativa Final"
   ]
  },
  {
   "cell_type": "code",
   "execution_count": null,
   "metadata": {},
   "outputs": [],
   "source": [
    "# Determinar los límites globales para la barra de color\n",
    "min_val = min(T_pinn.min(), T_fd.min(), T_analitica_final.min())\n",
    "max_val = max(T_pinn.max(), T_fd.max(), T_analitica_final.max())\n",
    "\n",
    "fig_comp = plt.figure(figsize=(18, 6))\n",
    "levels_comp = np.linspace(min_val, max_val, 101)\n",
    "\n",
    "# 1. Solución Numérica (PINN)\n",
    "ax_c1 = fig_comp.add_subplot(131)\n",
    "cp1 = ax_c1.contourf(X_grid, Y_grid, T_pinn, levels=levels_comp, cmap=cm.jet, vmin=min_val, vmax=max_val)\n",
    "ax_c1.set_title(f'Solución PINN (t={T_MAX})')\n",
    "ax_c1.set_xlabel('x')\n",
    "ax_c1.set_ylabel('y')\n",
    "ax_c1.set_aspect('equal')\n",
    "\n",
    "# 2. Solución Numérica (Diferencias Finitas)\n",
    "ax_c2 = fig_comp.add_subplot(132)\n",
    "cp2 = ax_c2.contourf(X_fd_grid, Y_fd_grid, T_fd, levels=levels_comp, cmap=cm.jet, vmin=min_val, vmax=max_val)\n",
    "ax_c2.set_title(f'Solución FD (t={T_MAX})')\n",
    "ax_c2.set_xlabel('x')\n",
    "ax_c2.set_ylabel('y')\n",
    "ax_c2.set_aspect('equal')\n",
    "\n",
    "# 3. Solución Analítica\n",
    "ax_c3 = fig_comp.add_subplot(133)\n",
    "# Usamos T_analitica_final que está en la misma malla que la PINN (X_grid, Y_grid)\n",
    "# Esto es consistente si NX, NY son los mismos para FD y PINN grid.\n",
    "cp3 = ax_c3.contourf(X_grid, Y_grid, T_analitica_final, levels=levels_comp, cmap=cm.jet, vmin=min_val, vmax=max_val)\n",
    "ax_c3.set_title(f'Solución Analítica (t={T_MAX})')\n",
    "ax_c3.set_xlabel('x')\n",
    "ax_c3.set_ylabel('y')\n",
    "ax_c3.set_aspect('equal')\n",
    "\n",
    "# Añadir una única barra de color para todos los subplots\n",
    "fig_comp.subplots_adjust(right=0.85) # Ajustar para dar espacio a la colorbar\n",
    "cbar_ax = fig_comp.add_axes([0.88, 0.15, 0.02, 0.7]) # [left, bottom, width, height]\n",
    "fig_comp.colorbar(cp1, cax=cbar_ax)\n",
    "\n",
    "plt.suptitle('Comparación Visual de Soluciones en t=T_MAX', fontsize=16)\n",
    "plt.show()"
   ]
  },
  {
   "cell_type": "markdown",
   "metadata": {},
   "source": [
    "### Discusión: Fortalezas y Desventajas (Análisis Cualitativo)"
   ]
  },
  {
   "cell_type": "markdown",
   "metadata": {},
   "source": [
    "Basándote en los resultados obtenidos (tiempo, error, visualización), discute las fortalezas y debilidades de cada enfoque.\n",
    "\n",
    "**Precisión:**\n",
    "- *(Comentario sobre qué método fue más preciso según el MAE. Por ejemplo: \"El método de [PINN/Diferencias Finitas] mostró un MAE de [valor_MAE] que fue [menor/mayor] que el MAE de [valor_MAE_otro_metodo] para el método de [Diferencias Finitas/PINN]. Esto sugiere que [método] fue [más/menos] preciso para la configuración probada.\")*\n",
    "\n",
    "**Rendimiento:**\n",
    "- *(Comentario sobre qué método fue más rápido y por qué podría serlo. Por ejemplo: \"El entrenamiento de la PINN tomó [tiempo_PINN] segundos, mientras que la simulación de Diferencias Finitas tomó [tiempo_FD] segundos. [PINN/FD] fue significativamente [más rápido/más lento]. La diferencia en velocidad puede atribuirse a [razones, ej. overhead del framework de deep learning vs. bucles de Python, complejidad del entrenamiento vs. cálculo iterativo directo, paralelización, etc.]. Para PINNs, el tiempo de inferencia (predicción) después del entrenamiento es usualmente muy rápido, aunque el entrenamiento puede ser costoso.\")*\n",
    "\n",
    "**Complejidad de Implementación:**\n",
    "- *(Comentario breve sobre la diferencia en el código para implementar cada método. Por ejemplo: \"La implementación de Diferencias Finitas requirió escribir explícitamente los bucles de discretización y actualización. La PINN, utilizando el framework DeepXDE, abstrae gran parte de la implementación de la red neuronal y el optimizador, permitiendo al usuario enfocarse más en la definición de la PDE, el dominio y las condiciones de frontera. Sin embargo, la configuración y el ajuste de hiperparámetros de una PINN pueden introducir su propia complejidad.\")*\n",
    "\n",
    "**Flexibilidad (Punto clave para PINNs):**\n",
    "- *(Menciona que, aunque en este problema de dominio simple no se explota, una fortaleza de las PINNs es que no dependen de una malla (mesh-free) y pueden teóricamente manejar geometrías complejas o problemas con condiciones de borde poco definidas con mayor facilidad que los métodos clásicos. Por ejemplo: \"Aunque este problema utiliza un dominio rectangular simple donde los métodos de Diferencias Finitas son efectivos, una ventaja inherente de las PINNs es su naturaleza libre de malla (mesh-free). Esto significa que pueden, en teoría, adaptarse más fácilmente a geometrías complejas, dimensiones más altas, o problemas donde definir una malla adecuada es complicado. Además, las PINNs pueden incorporar datos dispersos o ruidosos de manera más natural y pueden ser más robustas para problemas con condiciones de frontera complejas o mal definidas, ya que las condiciones se incorporan como términos en la función de pérdida.\")*"
   ]
  }
 ],
 "metadata": {
  },
  {
   "cell_type": "markdown",
   "metadata": {},
   "source": [
    "## Sección 2: Método Clásico (Diferencias Finitas)"
   ]
  },
  {
   "cell_type": "code",
   "execution_count": null,
   "metadata": {},
   "outputs": [],
   "source": []
  },
  {
   "cell_type": "markdown",
   "metadata": {},
   "source": [
    "### Resultados de FD"
   ]
  },
  {
   "cell_type": "code",
   "execution_count": null,
   "metadata": {},
   "outputs": [],
   "source": []
  },
  {
   "cell_type": "markdown",
   "metadata": {},
   "source": [
    "### Visualización (Sección 2)"
   ]
  },
  {
   "cell_type": "code",
   "execution_count": null,
   "metadata": {},
   "outputs": [],
   "source": []
  },
  {
   "cell_type": "markdown",
   "metadata": {},
   "source": [
    "## Sección 3: Análisis Comparativo y Conclusiones"
   ]
  },
  {
   "cell_type": "markdown",
   "metadata": {},
   "source": [
    "### Comparación Cuantitativa"
   ]
  },
  {
   "cell_type": "code",
   "execution_count": null,
   "metadata": {},
   "outputs": [],
   "source": []
  },
  {
   "cell_type": "markdown",
   "metadata": {},
   "source": [
    "### Visualización Comparativa Final"
   ]
  },
  {
   "cell_type": "code",
   "execution_count": null,
   "metadata": {},
   "outputs": [],
   "source": []
  },
  {
   "cell_type": "markdown",
   "metadata": {},
   "source": [
    "### Discusión: Fortalezas y Desventajas (Análisis Cualitativo)"
   ]
  },
  {
   "cell_type": "markdown",
   "metadata": {},
   "source": [
    "Basándote en los resultados obtenidos (tiempo, error, visualización), discute las fortalezas y debilidades de cada enfoque.\n",
    "\n",
    "**Precisión:**\n",
    "- *(Comentario sobre qué método fue más preciso según el MAE)*\n",
    "\n",
    "**Rendimiento:**\n",
    "- *(Comentario sobre qué método fue más rápido y por qué podría serlo)*\n",
    "\n",
    "**Complejidad de Implementación:**\n",
    "- *(Comentario breve sobre la diferencia en el código para implementar cada método)*\n",
    "\n",
    "**Flexibilidad (Punto clave para PINNs):**\n",
    "- *(Menciona que, aunque en este problema de dominio simple no se explota, una fortaleza de las PINNs es que no dependen de una malla (mesh-free) y pueden teóricamente manejar geometrías complejas o problemas con condiciones de borde poco definidas con mayor facilidad que los métodos clásicos.)*"
   ]
  }
 ],
 "metadata": {
  "kernelspec": {
   "display_name": "Python 3",
   "language": "python",
   "name": "python3"
  },
  "language_info": {
   "codemirror_mode": {
    "name": "ipython",
    "version": 3
   },
   "file_extension": ".py",
   "mimetype": "text/x-python",
   "name": "python",
   "nbconvert_exporter": "python",
   "pygments_lexer": "ipython3",
   "version": "3.10.12"
  }
 },
 "nbformat": 4,
 "nbformat_minor": 2
}
